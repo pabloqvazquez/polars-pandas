{
 "cells": [
  {
   "cell_type": "code",
   "execution_count": 1,
   "id": "f2ce7717-0eb0-4751-a6ba-a7598ac33119",
   "metadata": {},
   "outputs": [],
   "source": [
    "import pandas as pd\n",
    "import polars as pl"
   ]
  },
  {
   "cell_type": "code",
   "execution_count": 3,
   "id": "6552f84a-fae6-44ba-b599-7538199a220d",
   "metadata": {
    "tags": []
   },
   "outputs": [
    {
     "name": "stdout",
     "output_type": "stream",
     "text": [
      "https://d37ci6vzurychx.cloudfront.net/trip-data/yellow_tripdata_2022-01.parquet\n",
      "https://d37ci6vzurychx.cloudfront.net/trip-data/yellow_tripdata_2022-02.parquet\n",
      "https://d37ci6vzurychx.cloudfront.net/trip-data/yellow_tripdata_2022-03.parquet\n",
      "https://d37ci6vzurychx.cloudfront.net/trip-data/yellow_tripdata_2022-04.parquet\n",
      "CPU times: user 6.56 s, sys: 11 s, total: 17.5 s\n",
      "Wall time: 16.8 s\n"
     ]
    }
   ],
   "source": [
    "%%time\n",
    "url = \"https://d37ci6vzurychx.cloudfront.net/trip-data/yellow_tripdata_2022-0\"\n",
    "for i in range(1,5):\n",
    "    monthly_url = f'{url}{i}.parquet'\n",
    "    print(monthly_url)\n",
    "    monthly_parquet = pl.read_parquet(monthly_url)\n",
    "    if i == 1:\n",
    "        df = monthly_parquet\n",
    "    else:\n",
    "        df = pl.concat([df,monthly_parquet])\n",
    "    \n",
    "    \n"
   ]
  },
  {
   "cell_type": "code",
   "execution_count": null,
   "id": "4e2eb882-c653-4abe-b322-73342ed26e1b",
   "metadata": {},
   "outputs": [],
   "source": [
    "df.write_parquet(\"consolidated.parquet\")"
   ]
  },
  {
   "cell_type": "code",
   "execution_count": 2,
   "id": "4be0d547-54e3-4259-8bb5-0093c82869c8",
   "metadata": {},
   "outputs": [
    {
     "name": "stdout",
     "output_type": "stream",
     "text": [
      "https://d37ci6vzurychx.cloudfront.net/trip-data/yellow_tripdata_2022-01.parquet\n",
      "https://d37ci6vzurychx.cloudfront.net/trip-data/yellow_tripdata_2022-02.parquet\n",
      "https://d37ci6vzurychx.cloudfront.net/trip-data/yellow_tripdata_2022-03.parquet\n",
      "https://d37ci6vzurychx.cloudfront.net/trip-data/yellow_tripdata_2022-04.parquet\n",
      "CPU times: user 1 s, sys: 1.79 s, total: 2.79 s\n",
      "Wall time: 7.71 s\n"
     ]
    }
   ],
   "source": [
    "%%time\n",
    "url = \"https://d37ci6vzurychx.cloudfront.net/trip-data/yellow_tripdata_2022-0\"\n",
    "for i in range(1,5):\n",
    "    monthly_url = f'{url}{i}.parquet'\n",
    "    print(monthly_url)\n",
    "    monthly_parquet = pl.scan_parquet(monthly_url)\n",
    "    if i == 1:\n",
    "        lazy_df = monthly_parquet\n",
    "    else:\n",
    "        lazy_df = pl.concat([lazy_df,monthly_parquet])\n",
    "    \n",
    "\n"
   ]
  },
  {
   "cell_type": "code",
   "execution_count": 4,
   "id": "436d1d33-163f-4339-ba9c-bdadc339bb16",
   "metadata": {},
   "outputs": [
    {
     "name": "stdout",
     "output_type": "stream",
     "text": [
      "CPU times: user 22 s, sys: 32.2 s, total: 54.2 s\n",
      "Wall time: 1min 23s\n"
     ]
    }
   ],
   "source": [
    "%%time\n",
    "lazy_df.collect().write_parquet(\"lazy_consolidated.parquet\")\n"
   ]
  },
  {
   "cell_type": "code",
   "execution_count": null,
   "id": "4dc70f90-2363-484b-96d1-fb381a033be9",
   "metadata": {},
   "outputs": [],
   "source": []
  }
 ],
 "metadata": {
  "kernelspec": {
   "display_name": "Python 3 (ipykernel)",
   "language": "python",
   "name": "python3"
  },
  "language_info": {
   "codemirror_mode": {
    "name": "ipython",
    "version": 3
   },
   "file_extension": ".py",
   "mimetype": "text/x-python",
   "name": "python",
   "nbconvert_exporter": "python",
   "pygments_lexer": "ipython3",
   "version": "3.10.8"
  },
  "vscode": {
   "interpreter": {
    "hash": "b10cbfea1448caf29036f566a5a71cd73ed0b437e8a6e2029a2a8e8cf2297c17"
   }
  }
 },
 "nbformat": 4,
 "nbformat_minor": 5
}
